{
 "cells": [
  {
   "cell_type": "code",
   "execution_count": 1,
   "metadata": {},
   "outputs": [],
   "source": [
    "import torch\n",
    "from torch_geometric.data import Data, Dataset\n",
    "import networkx as nx\n",
    "from networkx.algorithms.centrality import betweenness_centrality\n",
    "\n",
    "from Datasets.synthetics import BA_2grid, BA_2grid_house, ProbingDataset, BA_2grid_to_test\n",
    "from sklearn.model_selection import train_test_split\n",
    "from torch_geometric.loader import DataLoader\n",
    "\n",
    "import torch_geometric.utils as pyg_utils\n",
    "import networkx as nx\n",
    "from networkx.algorithms.centrality import betweenness_centrality\n",
    "\n",
    "import pickle as pkl\n",
    "from torch_geometric.utils import from_networkx\n",
    "import random\n",
    "\n",
    "from models.models_BA_2grid import GCN_framework as framework\n",
    "import torch.nn.functional as F\n",
    "import numpy as np\n",
    "from sklearn.metrics import accuracy_score, f1_score, confusion_matrix\n",
    "import torch.optim as optim"
   ]
  },
  {
   "cell_type": "code",
   "execution_count": 2,
   "metadata": {},
   "outputs": [],
   "source": [
    "device = torch.device('cuda' if torch.cuda.is_available() else 'cpu')"
   ]
  },
  {
   "cell_type": "code",
   "execution_count": 3,
   "metadata": {},
   "outputs": [],
   "source": [
    "def set_seed(seed):\n",
    "    if seed == -1:\n",
    "        seed = random.randint(0, 1000)\n",
    "    # Pandas also uses np random state by default\n",
    "    np.random.seed(seed)\n",
    "    random.seed(seed)\n",
    "    torch.manual_seed(seed)\n",
    "\n",
    "    # if you are using GPU\n",
    "    torch.cuda.manual_seed(seed)\n",
    "    torch.cuda.manual_seed_all(seed)\n",
    "    torch.backends.cudnn.enabled = False\n",
    "    torch.backends.cudnn.benchmark = False\n",
    "    torch.backends.cudnn.deterministic = True"
   ]
  },
  {
   "cell_type": "code",
   "execution_count": 4,
   "metadata": {},
   "outputs": [],
   "source": [
    "set_seed(43)"
   ]
  },
  {
   "attachments": {},
   "cell_type": "markdown",
   "metadata": {},
   "source": [
    "# Compute Graph-Features Dataset\n",
    "\n",
    "The features for BA-2grid-house and ER-nb_stars2 datasets:\n",
    "- num_nodes\n",
    "- num_edges\n",
    "- density\n",
    "- average_shortest_path_length\n",
    "- transitivity\n",
    "- average_clustering"
   ]
  },
  {
   "cell_type": "code",
   "execution_count": 5,
   "metadata": {},
   "outputs": [],
   "source": [
    "probing_dataset = ProbingDataset()"
   ]
  },
  {
   "cell_type": "code",
   "execution_count": 6,
   "metadata": {},
   "outputs": [
    {
     "data": {
      "text/plain": [
       "ProbingDataset(2000)"
      ]
     },
     "execution_count": 6,
     "metadata": {},
     "output_type": "execute_result"
    }
   ],
   "source": [
    "probing_dataset"
   ]
  },
  {
   "cell_type": "code",
   "execution_count": 7,
   "metadata": {},
   "outputs": [],
   "source": [
    "gnn_dataset_to_test = BA_2grid_to_test()"
   ]
  },
  {
   "cell_type": "code",
   "execution_count": 8,
   "metadata": {},
   "outputs": [],
   "source": [
    "idx = torch.arange(len(gnn_dataset_to_test))\n",
    "train_idx, test_idx = train_test_split(idx, train_size=0.8,random_state=10)\n",
    "\n",
    "train_loader = DataLoader(gnn_dataset_to_test[train_idx],batch_size=256)\n",
    "test_loader = DataLoader(gnn_dataset_to_test[test_idx],batch_size=256)"
   ]
  },
  {
   "cell_type": "code",
   "execution_count": 9,
   "metadata": {},
   "outputs": [],
   "source": [
    "# Assuming you have a list of graphs in your dataset\n",
    "idx = torch.arange(len(probing_dataset))\n",
    "train_idx, test_idx = train_test_split(idx, train_size=0.8,random_state=10)\n",
    "\n",
    "probe_train_loader = DataLoader(probing_dataset[train_idx],batch_size=256)\n",
    "probe_test_loader = DataLoader(probing_dataset[test_idx],batch_size=256)"
   ]
  },
  {
   "attachments": {},
   "cell_type": "markdown",
   "metadata": {},
   "source": [
    "# Load Model to Probe"
   ]
  },
  {
   "cell_type": "code",
   "execution_count": 10,
   "metadata": {},
   "outputs": [
    {
     "name": "stderr",
     "output_type": "stream",
     "text": [
      "/home/mara/anaconda3/lib/python3.9/site-packages/torch_geometric/data/in_memory_dataset.py:157: UserWarning: It is not recommended to directly access the internal storage format `data` of an 'InMemoryDataset'. If you are absolutely certain what you are doing, access the internal storage via `InMemoryDataset._data` instead to suppress this warning. Alternatively, you can access stacked individual attributes of every graph via `dataset.{attr_name}`.\n",
      "  warnings.warn(msg)\n"
     ]
    }
   ],
   "source": [
    "MODEL = \"GCN\"\n",
    "DATASET = \"BA_2grid\"\n",
    "dataset = BA_2grid()\n",
    "gnn = framework(dataset,device=\"cpu\")"
   ]
  },
  {
   "cell_type": "code",
   "execution_count": 11,
   "metadata": {},
   "outputs": [
    {
     "data": {
      "text/plain": [
       "0.6991686612894952"
      ]
     },
     "execution_count": 11,
     "metadata": {},
     "output_type": "execute_result"
    }
   ],
   "source": [
    "# train the model\n",
    "gnn.train()"
   ]
  },
  {
   "attachments": {},
   "cell_type": "markdown",
   "metadata": {},
   "source": [
    "# Train probe"
   ]
  },
  {
   "cell_type": "code",
   "execution_count": 12,
   "metadata": {},
   "outputs": [],
   "source": [
    "class Probe(torch.nn.Module):\n",
    "    def __init__(self, input_size, output_size):\n",
    "        super(Probe, self).__init__()\n",
    "        self.fc = torch.nn.Linear(input_size, output_size)\n",
    "\n",
    "    def forward(self, x):\n",
    "        out = self.fc(x.float())\n",
    "        return out"
   ]
  },
  {
   "cell_type": "code",
   "execution_count": 13,
   "metadata": {},
   "outputs": [],
   "source": [
    "def train_probe(probe, gnn, layer_idx):\n",
    "    gnn.model.eval()\n",
    "    probe.train()\n",
    "    \n",
    "    total_loss = 0\n",
    "    loss_fn = torch.nn.MSELoss()\n",
    "    optimizer = optim.Adam(probe.parameters(), lr=0.001)\n",
    "\n",
    "    for graph in probe_train_loader:\n",
    "\n",
    "        optimizer.zero_grad()\n",
    "        output = gnn.model(graph.x, graph.edge_index, graph.batch)\n",
    "        output = torch.sum(output, dim=1)\n",
    "        labels = graph.y.reshape(int(len(graph.y)/6), 6)\n",
    "        padded_output = torch.nn.functional.pad(output, (0, 256 - int(len(graph.y)/6)))\n",
    "        output = probe(padded_output)\n",
    "        \n",
    "        \n",
    "        loss = loss_fn(output, labels)\n",
    "        loss.backward()\n",
    "\n",
    "        optimizer.step()\n",
    "        \n",
    "        total_loss += float(loss) * graph.num_graphs\n",
    "    return total_loss / len(probe_train_loader.dataset)"
   ]
  },
  {
   "cell_type": "code",
   "execution_count": 14,
   "metadata": {},
   "outputs": [],
   "source": [
    "import numpy as np\n",
    "from sklearn.metrics import mean_squared_error, r2_score\n",
    "\n",
    "def evaluate_probe(probe, test_loader):\n",
    "    probe.eval()\n",
    "\n",
    "    mse = 0\n",
    "    r2 = 0\n",
    "    total = 0\n",
    "    loss_fn = torch.nn.MSELoss()\n",
    "    \n",
    "    for graph in test_loader:\n",
    "\n",
    "        output = gnn.model(graph.x, graph.edge_index, graph.batch)\n",
    "        output = torch.sum(output, dim=1)\n",
    "        y_true = graph.y.reshape(int(len(graph.y)/6), 6)\n",
    "        padded_output = torch.nn.functional.pad(output, (0, 256 - int(len(graph.y)/6)))\n",
    "        y_pred = probe(padded_output)\n",
    "\n",
    "        mse += loss_fn(y_pred, y_true)\n",
    "        # r2 += r2_score(y_true, y_pred)\n",
    "        total += 1\n",
    "    \n",
    "    return {\n",
    "        \"MSE\": mse/total\n",
    "        # \"R2 Score\": r2/total\n",
    "    }"
   ]
  },
  {
   "cell_type": "code",
   "execution_count": 15,
   "metadata": {},
   "outputs": [],
   "source": [
    "def iterate_to_train(gnn, layer_idx, num_epochs=10):\n",
    "    probe = Probe(256, 6)\n",
    "    losses = []\n",
    "    test_losses = []\n",
    "    for epoch in range(num_epochs):\n",
    "        loss = train_probe(probe, gnn, layer_idx)\n",
    "        losses.append(loss)\n",
    "        result = evaluate_probe(probe, probe_test_loader)\n",
    "        test_acc = result['MSE']\n",
    "        test_losses.append(test_acc)\n",
    "        print(f'Epoch: {epoch:03d}, '\n",
    "              f'Test MSE: {test_acc:.3f}',\n",
    "              f'Train MSE: {loss:.3f}')\n",
    "        # print(f'Epoch: {epoch:03d}, '\n",
    "        #       f'Loss: {loss:.3f}, ')\n",
    "    return probe, losses, test_losses"
   ]
  },
  {
   "cell_type": "code",
   "execution_count": 16,
   "metadata": {},
   "outputs": [
    {
     "name": "stderr",
     "output_type": "stream",
     "text": [
      "/home/mara/anaconda3/lib/python3.9/site-packages/torch/nn/modules/loss.py:536: UserWarning: Using a target size (torch.Size([256, 6])) that is different to the input size (torch.Size([6])). This will likely lead to incorrect results due to broadcasting. Please ensure they have the same size.\n",
      "  return F.mse_loss(input, target, reduction=self.reduction)\n",
      "/home/mara/anaconda3/lib/python3.9/site-packages/torch/nn/modules/loss.py:536: UserWarning: Using a target size (torch.Size([64, 6])) that is different to the input size (torch.Size([6])). This will likely lead to incorrect results due to broadcasting. Please ensure they have the same size.\n",
      "  return F.mse_loss(input, target, reduction=self.reduction)\n",
      "/home/mara/anaconda3/lib/python3.9/site-packages/torch/nn/modules/loss.py:536: UserWarning: Using a target size (torch.Size([144, 6])) that is different to the input size (torch.Size([6])). This will likely lead to incorrect results due to broadcasting. Please ensure they have the same size.\n",
      "  return F.mse_loss(input, target, reduction=self.reduction)\n"
     ]
    },
    {
     "name": "stdout",
     "output_type": "stream",
     "text": [
      "Epoch: 000, Test MSE: 227.346 Train MSE: 233.254\n",
      "Epoch: 001, Test MSE: 212.227 Train MSE: 214.217\n",
      "Epoch: 002, Test MSE: 197.887 Train MSE: 196.312\n",
      "Epoch: 003, Test MSE: 184.328 Train MSE: 179.532\n",
      "Epoch: 004, Test MSE: 171.595 Train MSE: 163.826\n",
      "Epoch: 005, Test MSE: 159.317 Train MSE: 148.936\n",
      "Epoch: 006, Test MSE: 147.609 Train MSE: 134.801\n",
      "Epoch: 007, Test MSE: 136.375 Train MSE: 121.423\n",
      "Epoch: 008, Test MSE: 125.705 Train MSE: 108.800\n",
      "Epoch: 009, Test MSE: 115.513 Train MSE: 96.934\n",
      "Epoch: 010, Test MSE: 105.884 Train MSE: 85.824\n",
      "Epoch: 011, Test MSE: 96.735 Train MSE: 75.472\n",
      "Epoch: 012, Test MSE: 88.147 Train MSE: 65.875\n",
      "Epoch: 013, Test MSE: 80.042 Train MSE: 57.036\n",
      "Epoch: 014, Test MSE: 72.498 Train MSE: 48.952\n",
      "Epoch: 015, Test MSE: 65.439 Train MSE: 41.626\n",
      "Epoch: 016, Test MSE: 58.941 Train MSE: 35.056\n",
      "Epoch: 017, Test MSE: 52.931 Train MSE: 29.243\n",
      "Epoch: 018, Test MSE: 47.483 Train MSE: 24.184\n",
      "Epoch: 019, Test MSE: 42.526 Train MSE: 19.881\n",
      "Epoch: 020, Test MSE: 38.134 Train MSE: 16.328\n",
      "Epoch: 021, Test MSE: 34.243 Train MSE: 13.524\n",
      "Epoch: 022, Test MSE: 30.985 Train MSE: 11.462\n",
      "Epoch: 023, Test MSE: 29.110 Train MSE: 10.130\n",
      "Epoch: 024, Test MSE: 27.449 Train MSE: 9.235\n",
      "Epoch: 025, Test MSE: 26.160 Train MSE: 8.710\n",
      "Epoch: 026, Test MSE: 25.640 Train MSE: 8.538\n",
      "Epoch: 027, Test MSE: 25.768 Train MSE: 8.534\n",
      "Epoch: 028, Test MSE: 25.626 Train MSE: 8.512\n",
      "Epoch: 029, Test MSE: 25.597 Train MSE: 8.501\n",
      "Epoch: 030, Test MSE: 25.523 Train MSE: 8.483\n",
      "Epoch: 031, Test MSE: 25.462 Train MSE: 8.470\n",
      "Epoch: 032, Test MSE: 25.403 Train MSE: 8.454\n",
      "Epoch: 033, Test MSE: 25.335 Train MSE: 8.441\n",
      "Epoch: 034, Test MSE: 25.281 Train MSE: 8.424\n",
      "Epoch: 035, Test MSE: 25.210 Train MSE: 8.411\n",
      "Epoch: 036, Test MSE: 25.158 Train MSE: 8.396\n",
      "Epoch: 037, Test MSE: 25.086 Train MSE: 8.382\n",
      "Epoch: 038, Test MSE: 25.035 Train MSE: 8.367\n",
      "Epoch: 039, Test MSE: 24.962 Train MSE: 8.353\n",
      "Epoch: 040, Test MSE: 24.913 Train MSE: 8.337\n",
      "Epoch: 041, Test MSE: 24.840 Train MSE: 8.324\n",
      "Epoch: 042, Test MSE: 24.791 Train MSE: 8.308\n",
      "Epoch: 043, Test MSE: 24.718 Train MSE: 8.294\n",
      "Epoch: 044, Test MSE: 24.670 Train MSE: 8.280\n",
      "Epoch: 045, Test MSE: 24.596 Train MSE: 8.266\n",
      "Epoch: 046, Test MSE: 24.548 Train MSE: 8.250\n",
      "Epoch: 047, Test MSE: 24.475 Train MSE: 8.237\n",
      "Epoch: 048, Test MSE: 24.427 Train MSE: 8.222\n",
      "Epoch: 049, Test MSE: 24.354 Train MSE: 8.209\n",
      "Epoch: 050, Test MSE: 24.307 Train MSE: 8.194\n",
      "Epoch: 051, Test MSE: 24.234 Train MSE: 8.180\n",
      "Epoch: 052, Test MSE: 24.187 Train MSE: 8.165\n",
      "Epoch: 053, Test MSE: 24.115 Train MSE: 8.151\n",
      "Epoch: 054, Test MSE: 24.067 Train MSE: 8.137\n",
      "Epoch: 055, Test MSE: 23.995 Train MSE: 8.124\n",
      "Epoch: 056, Test MSE: 23.948 Train MSE: 8.108\n",
      "Epoch: 057, Test MSE: 23.876 Train MSE: 8.096\n",
      "Epoch: 058, Test MSE: 23.829 Train MSE: 8.080\n",
      "Epoch: 059, Test MSE: 23.758 Train MSE: 8.067\n",
      "Epoch: 060, Test MSE: 23.711 Train MSE: 8.053\n",
      "Epoch: 061, Test MSE: 23.640 Train MSE: 8.040\n",
      "Epoch: 062, Test MSE: 23.593 Train MSE: 8.024\n",
      "Epoch: 063, Test MSE: 23.523 Train MSE: 8.012\n",
      "Epoch: 064, Test MSE: 23.476 Train MSE: 7.997\n",
      "Epoch: 065, Test MSE: 23.406 Train MSE: 7.983\n",
      "Epoch: 066, Test MSE: 23.359 Train MSE: 7.969\n",
      "Epoch: 067, Test MSE: 23.290 Train MSE: 7.956\n",
      "Epoch: 068, Test MSE: 23.242 Train MSE: 7.941\n",
      "Epoch: 069, Test MSE: 23.174 Train MSE: 7.929\n",
      "Epoch: 070, Test MSE: 23.126 Train MSE: 7.914\n",
      "Epoch: 071, Test MSE: 23.058 Train MSE: 7.901\n",
      "Epoch: 072, Test MSE: 23.011 Train MSE: 7.887\n",
      "Epoch: 073, Test MSE: 22.943 Train MSE: 7.874\n",
      "Epoch: 074, Test MSE: 22.895 Train MSE: 7.859\n",
      "Epoch: 075, Test MSE: 22.828 Train MSE: 7.847\n",
      "Epoch: 076, Test MSE: 22.781 Train MSE: 7.832\n",
      "Epoch: 077, Test MSE: 22.714 Train MSE: 7.820\n",
      "Epoch: 078, Test MSE: 22.666 Train MSE: 7.805\n",
      "Epoch: 079, Test MSE: 22.601 Train MSE: 7.792\n",
      "Epoch: 080, Test MSE: 22.553 Train MSE: 7.778\n",
      "Epoch: 081, Test MSE: 22.487 Train MSE: 7.766\n",
      "Epoch: 082, Test MSE: 22.439 Train MSE: 7.752\n",
      "Epoch: 083, Test MSE: 22.374 Train MSE: 7.739\n",
      "Epoch: 084, Test MSE: 22.326 Train MSE: 7.725\n",
      "Epoch: 085, Test MSE: 22.262 Train MSE: 7.713\n",
      "Epoch: 086, Test MSE: 22.214 Train MSE: 7.698\n",
      "Epoch: 087, Test MSE: 22.150 Train MSE: 7.686\n",
      "Epoch: 088, Test MSE: 22.102 Train MSE: 7.672\n",
      "Epoch: 089, Test MSE: 22.038 Train MSE: 7.660\n",
      "Epoch: 090, Test MSE: 21.991 Train MSE: 7.645\n",
      "Epoch: 091, Test MSE: 21.928 Train MSE: 7.633\n",
      "Epoch: 092, Test MSE: 21.880 Train MSE: 7.619\n",
      "Epoch: 093, Test MSE: 21.817 Train MSE: 7.607\n",
      "Epoch: 094, Test MSE: 21.769 Train MSE: 7.593\n",
      "Epoch: 095, Test MSE: 21.707 Train MSE: 7.581\n",
      "Epoch: 096, Test MSE: 21.659 Train MSE: 7.567\n",
      "Epoch: 097, Test MSE: 21.597 Train MSE: 7.555\n",
      "Epoch: 098, Test MSE: 21.549 Train MSE: 7.541\n",
      "Epoch: 099, Test MSE: 21.488 Train MSE: 7.529\n"
     ]
    }
   ],
   "source": [
    "probe, losses, test_acc = iterate_to_train(gnn, 0, num_epochs=100)"
   ]
  },
  {
   "cell_type": "code",
   "execution_count": 17,
   "metadata": {},
   "outputs": [
    {
     "data": {
      "text/plain": [
       "[<matplotlib.lines.Line2D at 0x7f0cd0bbe640>]"
      ]
     },
     "execution_count": 17,
     "metadata": {},
     "output_type": "execute_result"
    },
    {
     "data": {
      "image/png": "[encoded data removed]",
      "text/plain": [
       "<Figure size 640x480 with 1 Axes>"
      ]
     },
     "metadata": {},
     "output_type": "display_data"
    }
   ],
   "source": [
    "import matplotlib.pyplot as plt\n",
    "epochs = [i for i in range(100)]\n",
    "plt.plot(epochs, losses)"
   ]
  },
  {
   "cell_type": "code",
   "execution_count": 17,
   "metadata": {},
   "outputs": [
    {
     "name": "stdout",
     "output_type": "stream",
     "text": [
      "tensor(19.9823, grad_fn=<DivBackward0>)\n",
      "[-1.59017107 -2.01624809 -0.79297536 -0.97102047  0.          0.        ]\n"
     ]
    },
    {
     "name": "stderr",
     "output_type": "stream",
     "text": [
      "/home/mara/anaconda3/lib/python3.9/site-packages/torch/nn/modules/loss.py:536: UserWarning: Using a target size (torch.Size([256, 6])) that is different to the input size (torch.Size([6])). This will likely lead to incorrect results due to broadcasting. Please ensure they have the same size.\n",
      "  return F.mse_loss(input, target, reduction=self.reduction)\n",
      "/home/mara/anaconda3/lib/python3.9/site-packages/torch/nn/modules/loss.py:536: UserWarning: Using a target size (torch.Size([256, 6])) that is different to the input size (torch.Size([6])). This will likely lead to incorrect results due to broadcasting. Please ensure they have the same size.\n",
      "  return F.mse_loss(input, target, reduction=self.reduction)\n",
      "/home/mara/anaconda3/lib/python3.9/site-packages/torch/nn/modules/loss.py:536: UserWarning: Using a target size (torch.Size([256, 6])) that is different to the input size (torch.Size([6])). This will likely lead to incorrect results due to broadcasting. Please ensure they have the same size.\n",
      "  return F.mse_loss(input, target, reduction=self.reduction)\n",
      "/home/mara/anaconda3/lib/python3.9/site-packages/torch/nn/modules/loss.py:536: UserWarning: Using a target size (torch.Size([256, 6])) that is different to the input size (torch.Size([6])). This will likely lead to incorrect results due to broadcasting. Please ensure they have the same size.\n",
      "  return F.mse_loss(input, target, reduction=self.reduction)\n",
      "/home/mara/anaconda3/lib/python3.9/site-packages/torch/nn/modules/loss.py:536: UserWarning: Using a target size (torch.Size([256, 6])) that is different to the input size (torch.Size([6])). This will likely lead to incorrect results due to broadcasting. Please ensure they have the same size.\n",
      "  return F.mse_loss(input, target, reduction=self.reduction)\n",
      "/home/mara/anaconda3/lib/python3.9/site-packages/torch/nn/modules/loss.py:536: UserWarning: Using a target size (torch.Size([64, 6])) that is different to the input size (torch.Size([6])). This will likely lead to incorrect results due to broadcasting. Please ensure they have the same size.\n",
      "  return F.mse_loss(input, target, reduction=self.reduction)\n"
     ]
    }
   ],
   "source": [
    "gnn.model.eval()\n",
    "loss_fn = torch.nn.MSELoss()\n",
    "mse = 0\n",
    "total = 0 \n",
    "r2_scores = []\n",
    "for graph in train_loader:\n",
    "    output = gnn.model(graph.x, graph.edge_index, graph.batch)\n",
    "    output = torch.sum(output, dim=1)\n",
    "    y_true = graph.y.reshape(int(len(graph.y)/6), 6)\n",
    "    padded_output = torch.nn.functional.pad(output, (0, 256 - int(len(graph.y)/6)))\n",
    "    y_pred = probe(padded_output)\n",
    "    \n",
    "    mse += loss_fn(y_pred, y_true)\n",
    "    total += 1\n",
    "\n",
    "    # Calculate R2 score per property\n",
    "    r2_per_property = []\n",
    "    y_true = y_true.T\n",
    "    for i in range(len(y_true)):\n",
    "        predictions = y_pred[i].detach().numpy().repeat(len(y_true[i]))\n",
    "        r2 = r2_score(y_true[i], predictions)\n",
    "        r2_per_property.append(r2)\n",
    "    r2_scores.append(r2_per_property)\n",
    "\n",
    "r2_scores = np.mean(r2_scores, axis=0)\n",
    "print(mse/total)\n",
    "print(r2_scores)"
   ]
  },
  {
   "cell_type": "code",
   "execution_count": 21,
   "metadata": {},
   "outputs": [
    {
     "name": "stderr",
     "output_type": "stream",
     "text": [
      "/home/mara/anaconda3/lib/python3.9/site-packages/torch/nn/modules/loss.py:536: UserWarning: Using a target size (torch.Size([256, 6])) that is different to the input size (torch.Size([6])). This will likely lead to incorrect results due to broadcasting. Please ensure they have the same size.\n",
      "  return F.mse_loss(input, target, reduction=self.reduction)\n",
      "/home/mara/anaconda3/lib/python3.9/site-packages/torch/nn/modules/loss.py:536: UserWarning: Using a target size (torch.Size([256, 6])) that is different to the input size (torch.Size([6])). This will likely lead to incorrect results due to broadcasting. Please ensure they have the same size.\n",
      "  return F.mse_loss(input, target, reduction=self.reduction)\n",
      "/home/mara/anaconda3/lib/python3.9/site-packages/torch/nn/modules/loss.py:536: UserWarning: Using a target size (torch.Size([256, 6])) that is different to the input size (torch.Size([6])). This will likely lead to incorrect results due to broadcasting. Please ensure they have the same size.\n",
      "  return F.mse_loss(input, target, reduction=self.reduction)\n",
      "/home/mara/anaconda3/lib/python3.9/site-packages/torch/nn/modules/loss.py:536: UserWarning: Using a target size (torch.Size([256, 6])) that is different to the input size (torch.Size([6])). This will likely lead to incorrect results due to broadcasting. Please ensure they have the same size.\n",
      "  return F.mse_loss(input, target, reduction=self.reduction)\n",
      "/home/mara/anaconda3/lib/python3.9/site-packages/torch/nn/modules/loss.py:536: UserWarning: Using a target size (torch.Size([256, 6])) that is different to the input size (torch.Size([6])). This will likely lead to incorrect results due to broadcasting. Please ensure they have the same size.\n",
      "  return F.mse_loss(input, target, reduction=self.reduction)\n",
      "/home/mara/anaconda3/lib/python3.9/site-packages/torch/nn/modules/loss.py:536: UserWarning: Using a target size (torch.Size([256, 6])) that is different to the input size (torch.Size([6])). This will likely lead to incorrect results due to broadcasting. Please ensure they have the same size.\n",
      "  return F.mse_loss(input, target, reduction=self.reduction)\n",
      "/home/mara/anaconda3/lib/python3.9/site-packages/torch/nn/modules/loss.py:536: UserWarning: Using a target size (torch.Size([64, 6])) that is different to the input size (torch.Size([6])). This will likely lead to incorrect results due to broadcasting. Please ensure they have the same size.\n",
      "  return F.mse_loss(input, target, reduction=self.reduction)\n"
     ]
    },
    {
     "name": "stdout",
     "output_type": "stream",
     "text": [
      "tensor(19.9823, grad_fn=<DivBackward0>)\n",
      "0.7556661984785487\n",
      "[0.8324555307414964, 0.7941675084346029, 0.8303284134234526, 0.8234154997963283, 0.7925062498514386, 0.7960124544203672, 0.4207777326821539]\n"
     ]
    }
   ],
   "source": [
    "gnn.model.eval()\n",
    "loss_fn = torch.nn.MSELoss()\n",
    "mse = 0\n",
    "total = 0 \n",
    "r2_scores = []\n",
    "for graph in train_loader:\n",
    "    output = gnn.model(graph.x, graph.edge_index, graph.batch)\n",
    "    output = torch.sum(output, dim=1)\n",
    "    y_true = graph.y.reshape(int(len(graph.y)/6), 6)\n",
    "    padded_output = torch.nn.functional.pad(output, (0, 256 - int(len(graph.y)/6)))\n",
    "    y_pred = probe(padded_output)\n",
    "    \n",
    "    mse += loss_fn(y_pred, y_true)\n",
    "    total += 1\n",
    "\n",
    "    # Calculate R2 score per property\n",
    "    r2_per_property = []\n",
    "    for i in range(len(y_true)):\n",
    "        r2 = r2_score(y_true[i], y_pred.detach().numpy())\n",
    "        r2_per_property.append(r2)\n",
    "    \n",
    "    r2_per_property = np.mean(r2_per_property)\n",
    "    r2_scores.append(r2_per_property)\n",
    "\n",
    "# r2_scores = np.mean(r2_scores, axis=0)\n",
    "print(mse/total)\n",
    "print(np.mean(r2_scores))\n",
    "print(r2_scores)"
   ]
  },
  {
   "cell_type": "code",
   "execution_count": null,
   "metadata": {},
   "outputs": [],
   "source": []
  }
 ],
 "metadata": {
  "kernelspec": {
   "display_name": "base",
   "language": "python",
   "name": "python3"
  },
  "language_info": {
   "codemirror_mode": {
    "name": "ipython",
    "version": 3
   },
   "file_extension": ".py",
   "mimetype": "text/x-python",
   "name": "python",
   "nbconvert_exporter": "python",
   "pygments_lexer": "ipython3",
   "version": "3.9.13"
  },
  "orig_nbformat": 4
 },
 "nbformat": 4,
 "nbformat_minor": 2
}
