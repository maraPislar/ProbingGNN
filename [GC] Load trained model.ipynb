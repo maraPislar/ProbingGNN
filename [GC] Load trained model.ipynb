{
 "cells": [
  {
   "attachments": {},
   "cell_type": "markdown",
   "id": "fd324b6c",
   "metadata": {},
   "source": [
    "# Load a model\n",
    "\n",
    "Each model has been developed within a class in the folder models. The name of the \n",
    "module represent the name of the dataset. The model contains a class for each architecture.\n",
    "The constructor of the calss build the model, split the dataset and set all the hyperparameters of the networks.\n",
    "So the reproducibility is achived by only instanziating the model.\n"
   ]
  },
  {
   "attachments": {},
   "cell_type": "markdown",
   "id": "a41401ae",
   "metadata": {},
   "source": [
    "First you have to chose a model and a dataset.  \n",
    "\n",
    "for instacne: GIN on the GRID dataset"
   ]
  },
  {
   "cell_type": "code",
   "execution_count": 2,
   "id": "ff519fe9",
   "metadata": {},
   "outputs": [],
   "source": [
    "MODEL = \"GIN\"\n",
    "DATASET = \"BA_2grid\"\n",
    "\n",
    "# import the model\n",
    "from models.models_BA_2grid import GIN_framework as framework\n",
    "# import the dataset\n",
    "from Datasets.synthetics import BA_2grid"
   ]
  },
  {
   "cell_type": "code",
   "execution_count": 3,
   "id": "b1e84082",
   "metadata": {},
   "outputs": [
    {
     "name": "stderr",
     "output_type": "stream",
     "text": [
      "/home/mara/anaconda3/lib/python3.9/site-packages/torch_geometric/data/in_memory_dataset.py:157: UserWarning: It is not recommended to directly access the internal storage format `data` of an 'InMemoryDataset'. If you are absolutely certain what you are doing, access the internal storage via `InMemoryDataset._data` instead to suppress this warning. Alternatively, you can access stacked individual attributes of every graph via `dataset.{attr_name}`.\n",
      "  warnings.warn(msg)\n"
     ]
    }
   ],
   "source": [
    "# inizialize the framework\n",
    "dataset = BA_2grid()\n",
    "gnn = framework(dataset,device=\"cpu\")"
   ]
  },
  {
   "cell_type": "code",
   "execution_count": 4,
   "id": "55734e21",
   "metadata": {},
   "outputs": [
    {
     "name": "stdout",
     "output_type": "stream",
     "text": [
      "Net(\n",
      "  (mlp1): Linear(in_features=10, out_features=30, bias=True)\n",
      "  (conv1): GINConv(nn=Linear(in_features=10, out_features=30, bias=True))\n",
      "  (mlp2): Linear(in_features=30, out_features=30, bias=True)\n",
      "  (conv2): GINConv(nn=Linear(in_features=30, out_features=30, bias=True))\n",
      "  (lin1): Linear(in_features=30, out_features=30, bias=True)\n",
      "  (lin2): Linear(in_features=30, out_features=2, bias=True)\n",
      ")\n",
      "tensor([ 701, 1225,   47,  ...,   40,  423,  494])\n",
      "BA_2grid(1600)\n"
     ]
    }
   ],
   "source": [
    "# the gnn object contains the train test split and the model.\n",
    "\n",
    "print(gnn.model)\n",
    "print(gnn.train_idx)\n",
    "print(gnn.dataset[gnn.train_idx])"
   ]
  },
  {
   "cell_type": "code",
   "execution_count": 7,
   "id": "17e019ea",
   "metadata": {},
   "outputs": [
    {
     "name": "stdout",
     "output_type": "stream",
     "text": [
      "tensor([-2.5855e-01,  1.3047e-01,  2.6723e-01,  4.9839e-03,  3.0724e-01,\n",
      "         1.5386e-01, -1.2097e-04,  9.0572e-02,  2.7879e-01,  3.1286e-01],\n",
      "       dtype=torch.float64, grad_fn=<SelectBackward0>)\n"
     ]
    }
   ],
   "source": [
    "# right now the model has random weights.\n",
    "print(gnn.model.mlp1.weight[0])"
   ]
  },
  {
   "cell_type": "code",
   "execution_count": 10,
   "id": "df452016",
   "metadata": {},
   "outputs": [
    {
     "name": "stdout",
     "output_type": "stream",
     "text": [
      "we loaded the weights\n",
      "tensor([-0.1223,  0.3137,  0.0286, -0.1346,  0.3280,  0.3423, -0.0706,  0.1529,\n",
      "         0.1649, -0.0715], dtype=torch.float64, grad_fn=<SelectBackward0>)\n"
     ]
    }
   ],
   "source": [
    "#now that the model is instaziated, we have to load the weights\n",
    "gnn.load_model(\"models/\"+DATASET+\"_\"+MODEL)\n",
    "print(\"we loaded the weights\")\n",
    "# right now the model has trained weights.\n",
    "print(gnn.model.mlp1.weight[0])"
   ]
  },
  {
   "cell_type": "code",
   "execution_count": 11,
   "id": "29673448",
   "metadata": {},
   "outputs": [
    {
     "name": "stdout",
     "output_type": "stream",
     "text": [
      "Test Loss: 0.000, Train Acc: 1.000 Test Acc: 1.000\n"
     ]
    }
   ],
   "source": [
    "# we also have a build in function to evaluate the model\n",
    "gnn.evaluate()"
   ]
  },
  {
   "cell_type": "code",
   "execution_count": null,
   "id": "8fb46bcf",
   "metadata": {},
   "outputs": [],
   "source": []
  }
 ],
 "metadata": {
  "kernelspec": {
   "display_name": "Python 3 (ipykernel)",
   "language": "python",
   "name": "python3"
  },
  "language_info": {
   "codemirror_mode": {
    "name": "ipython",
    "version": 3
   },
   "file_extension": ".py",
   "mimetype": "text/x-python",
   "name": "python",
   "nbconvert_exporter": "python",
   "pygments_lexer": "ipython3",
   "version": "3.9.13"
  }
 },
 "nbformat": 4,
 "nbformat_minor": 5
}
