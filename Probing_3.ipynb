{
 "cells": [
  {
   "cell_type": "code",
   "execution_count": 1,
   "metadata": {},
   "outputs": [],
   "source": [
    "import torch\n",
    "from torch_geometric.data import Data, Dataset\n",
    "import networkx as nx\n",
    "from networkx.algorithms.centrality import betweenness_centrality\n",
    "\n",
    "from Datasets.synthetics import BA_2grid, BA_2grid_house, ProbingDataset, BA_2grid_to_test\n",
    "from sklearn.model_selection import train_test_split\n",
    "from torch_geometric.loader import DataLoader\n",
    "\n",
    "import torch_geometric.utils as pyg_utils\n",
    "import networkx as nx\n",
    "from networkx.algorithms.centrality import betweenness_centrality\n",
    "\n",
    "import pickle as pkl\n",
    "from torch_geometric.utils import from_networkx\n",
    "import random\n",
    "\n",
    "from models.models_BA_2grid import Cheb_framework as framework\n",
    "import torch.nn.functional as F\n",
    "import numpy as np\n",
    "from sklearn.metrics import accuracy_score, f1_score, confusion_matrix\n",
    "import torch.optim as optim"
   ]
  },
  {
   "cell_type": "code",
   "execution_count": 2,
   "metadata": {},
   "outputs": [],
   "source": [
    "device = torch.device('cuda' if torch.cuda.is_available() else 'cpu')"
   ]
  },
  {
   "cell_type": "code",
   "execution_count": 4,
   "metadata": {},
   "outputs": [],
   "source": [
    "def set_seed(seed):\n",
    "    if seed == -1:\n",
    "        seed = random.randint(0, 1000)\n",
    "    # Pandas also uses np random state by default\n",
    "    np.random.seed(seed)\n",
    "    random.seed(seed)\n",
    "    torch.manual_seed(seed)\n",
    "\n",
    "    # if you are using GPU\n",
    "    torch.cuda.manual_seed(seed)\n",
    "    torch.cuda.manual_seed_all(seed)\n",
    "    torch.backends.cudnn.enabled = False\n",
    "    torch.backends.cudnn.benchmark = False\n",
    "    torch.backends.cudnn.deterministic = True"
   ]
  },
  {
   "cell_type": "code",
   "execution_count": 5,
   "metadata": {},
   "outputs": [],
   "source": [
    "set_seed(43)"
   ]
  },
  {
   "attachments": {},
   "cell_type": "markdown",
   "metadata": {},
   "source": [
    "# Compute Graph-Features Dataset\n",
    "\n",
    "The features for BA-2grid-house and ER-nb_stars2 datasets:\n",
    "- num_nodes\n",
    "- num_edges\n",
    "- density\n",
    "- average_shortest_path_length\n",
    "- transitivity\n",
    "- average_clustering"
   ]
  },
  {
   "cell_type": "code",
   "execution_count": 6,
   "metadata": {},
   "outputs": [],
   "source": [
    "probing_dataset = ProbingDataset()"
   ]
  },
  {
   "cell_type": "code",
   "execution_count": 7,
   "metadata": {},
   "outputs": [
    {
     "data": {
      "text/plain": [
       "ProbingDataset(2000)"
      ]
     },
     "execution_count": 7,
     "metadata": {},
     "output_type": "execute_result"
    }
   ],
   "source": [
    "probing_dataset"
   ]
  },
  {
   "cell_type": "code",
   "execution_count": 8,
   "metadata": {},
   "outputs": [],
   "source": [
    "gnn_dataset_to_test = BA_2grid_to_test()"
   ]
  },
  {
   "cell_type": "code",
   "execution_count": 9,
   "metadata": {},
   "outputs": [],
   "source": [
    "idx = torch.arange(len(gnn_dataset_to_test))\n",
    "train_idx, test_idx = train_test_split(idx, train_size=0.8,random_state=10)\n",
    "\n",
    "train_loader = DataLoader(gnn_dataset_to_test[train_idx],batch_size=256)\n",
    "test_loader = DataLoader(gnn_dataset_to_test[test_idx],batch_size=256)"
   ]
  },
  {
   "cell_type": "code",
   "execution_count": 10,
   "metadata": {},
   "outputs": [],
   "source": [
    "# Assuming you have a list of graphs in your dataset\n",
    "idx = torch.arange(len(probing_dataset))\n",
    "train_idx, test_idx = train_test_split(idx, train_size=0.8,random_state=10)\n",
    "\n",
    "probe_train_loader = DataLoader(probing_dataset[train_idx],batch_size=256)\n",
    "probe_test_loader = DataLoader(probing_dataset[test_idx],batch_size=256)"
   ]
  },
  {
   "attachments": {},
   "cell_type": "markdown",
   "metadata": {},
   "source": [
    "# Load Model to Probe"
   ]
  },
  {
   "cell_type": "code",
   "execution_count": 11,
   "metadata": {},
   "outputs": [
    {
     "name": "stderr",
     "output_type": "stream",
     "text": [
      "/home/mara/anaconda3/lib/python3.9/site-packages/torch_geometric/data/in_memory_dataset.py:157: UserWarning: It is not recommended to directly access the internal storage format `data` of an 'InMemoryDataset'. If you are absolutely certain what you are doing, access the internal storage via `InMemoryDataset._data` instead to suppress this warning. Alternatively, you can access stacked individual attributes of every graph via `dataset.{attr_name}`.\n",
      "  warnings.warn(msg)\n"
     ]
    }
   ],
   "source": [
    "MODEL = \"Chab\"\n",
    "DATASET = \"BA_2grid\"\n",
    "dataset = BA_2grid()\n",
    "gnn = framework(dataset,device=\"cpu\")"
   ]
  },
  {
   "cell_type": "code",
   "execution_count": 12,
   "metadata": {},
   "outputs": [
    {
     "data": {
      "text/plain": [
       "0.6990147439708688"
      ]
     },
     "execution_count": 12,
     "metadata": {},
     "output_type": "execute_result"
    }
   ],
   "source": [
    "# train the model\n",
    "gnn.train()"
   ]
  },
  {
   "attachments": {},
   "cell_type": "markdown",
   "metadata": {},
   "source": [
    "# Train probe"
   ]
  },
  {
   "cell_type": "code",
   "execution_count": 13,
   "metadata": {},
   "outputs": [],
   "source": [
    "class Probe(torch.nn.Module):\n",
    "    def __init__(self, input_size, output_size):\n",
    "        super(Probe, self).__init__()\n",
    "        self.fc = torch.nn.Linear(input_size, output_size)\n",
    "\n",
    "    def forward(self, x):\n",
    "        out = self.fc(x.float())\n",
    "        return out"
   ]
  },
  {
   "cell_type": "code",
   "execution_count": 14,
   "metadata": {},
   "outputs": [],
   "source": [
    "def train_probe(probe, gnn, layer_idx):\n",
    "    gnn.model.eval()\n",
    "    probe.train()\n",
    "    \n",
    "    total_loss = 0\n",
    "    loss_fn = torch.nn.MSELoss()\n",
    "    optimizer = optim.Adam(probe.parameters(), lr=0.001)\n",
    "\n",
    "    for graph in probe_train_loader:\n",
    "\n",
    "        optimizer.zero_grad()\n",
    "        output = gnn.model(graph.x, graph.edge_index, graph.batch)\n",
    "        output = torch.sum(output, dim=1)\n",
    "        labels = graph.y.reshape(int(len(graph.y)/6), 6)\n",
    "        padded_output = torch.nn.functional.pad(output, (0, 256 - int(len(graph.y)/6)))\n",
    "        output = probe(padded_output)\n",
    "        \n",
    "        \n",
    "        loss = loss_fn(output, labels)\n",
    "        loss.backward()\n",
    "\n",
    "        optimizer.step()\n",
    "        \n",
    "        total_loss += float(loss) * graph.num_graphs\n",
    "    return total_loss / len(probe_train_loader.dataset)"
   ]
  },
  {
   "cell_type": "code",
   "execution_count": 15,
   "metadata": {},
   "outputs": [],
   "source": [
    "import numpy as np\n",
    "from sklearn.metrics import mean_squared_error, r2_score\n",
    "\n",
    "def evaluate_probe(probe, test_loader):\n",
    "    probe.eval()\n",
    "\n",
    "    mse = 0\n",
    "    r2 = 0\n",
    "    total = 0\n",
    "    loss_fn = torch.nn.MSELoss()\n",
    "    \n",
    "    for graph in test_loader:\n",
    "\n",
    "        output = gnn.model(graph.x, graph.edge_index, graph.batch)\n",
    "        output = torch.sum(output, dim=1)\n",
    "        y_true = graph.y.reshape(int(len(graph.y)/6), 6)\n",
    "        padded_output = torch.nn.functional.pad(output, (0, 256 - int(len(graph.y)/6)))\n",
    "        y_pred = probe(padded_output)\n",
    "\n",
    "        mse += loss_fn(y_pred, y_true)\n",
    "        # r2 += r2_score(y_true, y_pred)\n",
    "        total += 1\n",
    "    \n",
    "    return {\n",
    "        \"MSE\": mse/total\n",
    "        # \"R2 Score\": r2/total\n",
    "    }"
   ]
  },
  {
   "cell_type": "code",
   "execution_count": 16,
   "metadata": {},
   "outputs": [],
   "source": [
    "def iterate_to_train(gnn, layer_idx, num_epochs=10):\n",
    "    probe = Probe(256, 6)\n",
    "    losses = []\n",
    "    test_losses = []\n",
    "    for epoch in range(num_epochs):\n",
    "        loss = train_probe(probe, gnn, layer_idx)\n",
    "        losses.append(loss)\n",
    "        result = evaluate_probe(probe, probe_test_loader)\n",
    "        test_acc = result['MSE']\n",
    "        test_losses.append(test_acc)\n",
    "        print(f'Epoch: {epoch:03d}, '\n",
    "              f'Test MSE: {test_acc:.3f}',\n",
    "              f'Train MSE: {loss:.3f}')\n",
    "        # print(f'Epoch: {epoch:03d}, '\n",
    "        #       f'Loss: {loss:.3f}, ')\n",
    "    return probe, losses, test_losses"
   ]
  },
  {
   "cell_type": "code",
   "execution_count": 17,
   "metadata": {},
   "outputs": [
    {
     "name": "stderr",
     "output_type": "stream",
     "text": [
      "/home/mara/anaconda3/lib/python3.9/site-packages/torch/nn/modules/loss.py:536: UserWarning: Using a target size (torch.Size([256, 6])) that is different to the input size (torch.Size([6])). This will likely lead to incorrect results due to broadcasting. Please ensure they have the same size.\n",
      "  return F.mse_loss(input, target, reduction=self.reduction)\n",
      "/home/mara/anaconda3/lib/python3.9/site-packages/torch/nn/modules/loss.py:536: UserWarning: Using a target size (torch.Size([64, 6])) that is different to the input size (torch.Size([6])). This will likely lead to incorrect results due to broadcasting. Please ensure they have the same size.\n",
      "  return F.mse_loss(input, target, reduction=self.reduction)\n",
      "/home/mara/anaconda3/lib/python3.9/site-packages/torch/nn/modules/loss.py:536: UserWarning: Using a target size (torch.Size([144, 6])) that is different to the input size (torch.Size([6])). This will likely lead to incorrect results due to broadcasting. Please ensure they have the same size.\n",
      "  return F.mse_loss(input, target, reduction=self.reduction)\n"
     ]
    },
    {
     "name": "stdout",
     "output_type": "stream",
     "text": [
      "Epoch: 000, Test MSE: 205.885 Train MSE: 217.691\n",
      "Epoch: 001, Test MSE: 177.732 Train MSE: 180.986\n",
      "Epoch: 002, Test MSE: 152.578 Train MSE: 149.053\n",
      "Epoch: 003, Test MSE: 129.616 Train MSE: 120.616\n",
      "Epoch: 004, Test MSE: 108.864 Train MSE: 95.407\n",
      "Epoch: 005, Test MSE: 90.317 Train MSE: 73.427\n",
      "Epoch: 006, Test MSE: 73.993 Train MSE: 54.673\n",
      "Epoch: 007, Test MSE: 59.893 Train MSE: 39.153\n",
      "Epoch: 008, Test MSE: 48.024 Train MSE: 26.853\n",
      "Epoch: 009, Test MSE: 38.399 Train MSE: 17.776\n",
      "Epoch: 010, Test MSE: 31.067 Train MSE: 11.895\n",
      "Epoch: 011, Test MSE: 27.215 Train MSE: 9.144\n",
      "Epoch: 012, Test MSE: 26.521 Train MSE: 8.484\n",
      "Epoch: 013, Test MSE: 26.949 Train MSE: 8.476\n",
      "Epoch: 014, Test MSE: 26.374 Train MSE: 8.429\n",
      "Epoch: 015, Test MSE: 26.684 Train MSE: 8.420\n",
      "Epoch: 016, Test MSE: 26.185 Train MSE: 8.376\n",
      "Epoch: 017, Test MSE: 26.415 Train MSE: 8.363\n",
      "Epoch: 018, Test MSE: 25.980 Train MSE: 8.325\n",
      "Epoch: 019, Test MSE: 26.149 Train MSE: 8.310\n",
      "Epoch: 020, Test MSE: 25.767 Train MSE: 8.272\n",
      "Epoch: 021, Test MSE: 25.888 Train MSE: 8.256\n",
      "Epoch: 022, Test MSE: 25.549 Train MSE: 8.219\n",
      "Epoch: 023, Test MSE: 25.631 Train MSE: 8.200\n",
      "Epoch: 024, Test MSE: 25.328 Train MSE: 8.166\n",
      "Epoch: 025, Test MSE: 25.377 Train MSE: 8.146\n",
      "Epoch: 026, Test MSE: 25.105 Train MSE: 8.114\n",
      "Epoch: 027, Test MSE: 25.128 Train MSE: 8.094\n",
      "Epoch: 028, Test MSE: 24.881 Train MSE: 8.060\n",
      "Epoch: 029, Test MSE: 24.882 Train MSE: 8.039\n",
      "Epoch: 030, Test MSE: 24.657 Train MSE: 8.009\n",
      "Epoch: 031, Test MSE: 24.639 Train MSE: 7.986\n",
      "Epoch: 032, Test MSE: 24.432 Train MSE: 7.958\n",
      "Epoch: 033, Test MSE: 24.400 Train MSE: 7.933\n",
      "Epoch: 034, Test MSE: 24.208 Train MSE: 7.905\n",
      "Epoch: 035, Test MSE: 24.162 Train MSE: 7.883\n",
      "Epoch: 036, Test MSE: 23.985 Train MSE: 7.853\n",
      "Epoch: 037, Test MSE: 23.928 Train MSE: 7.830\n",
      "Epoch: 038, Test MSE: 23.761 Train MSE: 7.804\n",
      "Epoch: 039, Test MSE: 23.697 Train MSE: 7.778\n",
      "Epoch: 040, Test MSE: 23.539 Train MSE: 7.753\n",
      "Epoch: 041, Test MSE: 23.467 Train MSE: 7.730\n",
      "Epoch: 042, Test MSE: 23.318 Train MSE: 7.701\n",
      "Epoch: 043, Test MSE: 23.240 Train MSE: 7.679\n",
      "Epoch: 044, Test MSE: 23.098 Train MSE: 7.651\n",
      "Epoch: 045, Test MSE: 23.016 Train MSE: 7.629\n",
      "Epoch: 046, Test MSE: 22.879 Train MSE: 7.604\n",
      "Epoch: 047, Test MSE: 22.793 Train MSE: 7.578\n",
      "Epoch: 048, Test MSE: 22.661 Train MSE: 7.554\n",
      "Epoch: 049, Test MSE: 22.572 Train MSE: 7.528\n",
      "Epoch: 050, Test MSE: 22.445 Train MSE: 7.505\n",
      "Epoch: 051, Test MSE: 22.353 Train MSE: 7.482\n",
      "Epoch: 052, Test MSE: 22.230 Train MSE: 7.455\n",
      "Epoch: 053, Test MSE: 22.136 Train MSE: 7.433\n",
      "Epoch: 054, Test MSE: 22.017 Train MSE: 7.407\n",
      "Epoch: 055, Test MSE: 21.921 Train MSE: 7.386\n",
      "Epoch: 056, Test MSE: 21.805 Train MSE: 7.360\n",
      "Epoch: 057, Test MSE: 21.708 Train MSE: 7.337\n",
      "Epoch: 058, Test MSE: 21.593 Train MSE: 7.314\n",
      "Epoch: 059, Test MSE: 21.497 Train MSE: 7.289\n",
      "Epoch: 060, Test MSE: 21.383 Train MSE: 7.267\n",
      "Epoch: 061, Test MSE: 21.287 Train MSE: 7.242\n",
      "Epoch: 062, Test MSE: 21.175 Train MSE: 7.221\n",
      "Epoch: 063, Test MSE: 21.078 Train MSE: 7.195\n",
      "Epoch: 064, Test MSE: 20.969 Train MSE: 7.174\n",
      "Epoch: 065, Test MSE: 20.871 Train MSE: 7.151\n",
      "Epoch: 066, Test MSE: 20.764 Train MSE: 7.126\n",
      "Epoch: 067, Test MSE: 20.665 Train MSE: 7.105\n",
      "Epoch: 068, Test MSE: 20.560 Train MSE: 7.081\n",
      "Epoch: 069, Test MSE: 20.462 Train MSE: 7.060\n",
      "Epoch: 070, Test MSE: 20.358 Train MSE: 7.035\n",
      "Epoch: 071, Test MSE: 20.260 Train MSE: 7.014\n",
      "Epoch: 072, Test MSE: 20.155 Train MSE: 6.992\n",
      "Epoch: 073, Test MSE: 20.059 Train MSE: 6.967\n",
      "Epoch: 074, Test MSE: 19.955 Train MSE: 6.948\n",
      "Epoch: 075, Test MSE: 19.859 Train MSE: 6.923\n",
      "Epoch: 076, Test MSE: 19.756 Train MSE: 6.904\n",
      "Epoch: 077, Test MSE: 19.660 Train MSE: 6.878\n",
      "Epoch: 078, Test MSE: 19.560 Train MSE: 6.859\n",
      "Epoch: 079, Test MSE: 19.463 Train MSE: 6.837\n",
      "Epoch: 080, Test MSE: 19.363 Train MSE: 6.813\n",
      "Epoch: 081, Test MSE: 19.266 Train MSE: 6.793\n",
      "Epoch: 082, Test MSE: 19.168 Train MSE: 6.770\n",
      "Epoch: 083, Test MSE: 19.072 Train MSE: 6.749\n",
      "Epoch: 084, Test MSE: 18.973 Train MSE: 6.729\n",
      "Epoch: 085, Test MSE: 18.879 Train MSE: 6.704\n",
      "Epoch: 086, Test MSE: 18.780 Train MSE: 6.685\n",
      "Epoch: 087, Test MSE: 18.686 Train MSE: 6.661\n",
      "Epoch: 088, Test MSE: 18.590 Train MSE: 6.643\n",
      "Epoch: 089, Test MSE: 18.495 Train MSE: 6.621\n",
      "Epoch: 090, Test MSE: 18.399 Train MSE: 6.598\n",
      "Epoch: 091, Test MSE: 18.304 Train MSE: 6.578\n",
      "Epoch: 092, Test MSE: 18.210 Train MSE: 6.556\n",
      "Epoch: 093, Test MSE: 18.116 Train MSE: 6.536\n",
      "Epoch: 094, Test MSE: 18.021 Train MSE: 6.516\n",
      "Epoch: 095, Test MSE: 17.929 Train MSE: 6.492\n",
      "Epoch: 096, Test MSE: 17.835 Train MSE: 6.474\n",
      "Epoch: 097, Test MSE: 17.742 Train MSE: 6.453\n",
      "Epoch: 098, Test MSE: 17.649 Train MSE: 6.430\n",
      "Epoch: 099, Test MSE: 17.558 Train MSE: 6.411\n"
     ]
    }
   ],
   "source": [
    "probe, losses, test_acc = iterate_to_train(gnn, 0, num_epochs=100)"
   ]
  },
  {
   "cell_type": "code",
   "execution_count": 18,
   "metadata": {},
   "outputs": [
    {
     "data": {
      "text/plain": [
       "[<matplotlib.lines.Line2D at 0x7f3576338bb0>]"
      ]
     },
     "execution_count": 18,
     "metadata": {},
     "output_type": "execute_result"
    },
    {
     "data": {
      "image/png": "[encoded data removed]",
      "text/plain": [
       "<Figure size 640x480 with 1 Axes>"
      ]
     },
     "metadata": {},
     "output_type": "display_data"
    }
   ],
   "source": [
    "import matplotlib.pyplot as plt\n",
    "epochs = [i for i in range(100)]\n",
    "plt.plot(epochs, losses)"
   ]
  },
  {
   "cell_type": "code",
   "execution_count": 20,
   "metadata": {},
   "outputs": [
    {
     "name": "stdout",
     "output_type": "stream",
     "text": [
      "tensor(15.5753, grad_fn=<DivBackward0>)\n",
      "[-1.01868578 -1.36602953 -0.70696467 -0.30496331  0.          0.        ]\n"
     ]
    },
    {
     "name": "stderr",
     "output_type": "stream",
     "text": [
      "/home/mara/anaconda3/lib/python3.9/site-packages/torch/nn/modules/loss.py:536: UserWarning: Using a target size (torch.Size([256, 6])) that is different to the input size (torch.Size([6])). This will likely lead to incorrect results due to broadcasting. Please ensure they have the same size.\n",
      "  return F.mse_loss(input, target, reduction=self.reduction)\n",
      "/home/mara/anaconda3/lib/python3.9/site-packages/torch/nn/modules/loss.py:536: UserWarning: Using a target size (torch.Size([256, 6])) that is different to the input size (torch.Size([6])). This will likely lead to incorrect results due to broadcasting. Please ensure they have the same size.\n",
      "  return F.mse_loss(input, target, reduction=self.reduction)\n",
      "/home/mara/anaconda3/lib/python3.9/site-packages/torch/nn/modules/loss.py:536: UserWarning: Using a target size (torch.Size([256, 6])) that is different to the input size (torch.Size([6])). This will likely lead to incorrect results due to broadcasting. Please ensure they have the same size.\n",
      "  return F.mse_loss(input, target, reduction=self.reduction)\n",
      "/home/mara/anaconda3/lib/python3.9/site-packages/torch/nn/modules/loss.py:536: UserWarning: Using a target size (torch.Size([256, 6])) that is different to the input size (torch.Size([6])). This will likely lead to incorrect results due to broadcasting. Please ensure they have the same size.\n",
      "  return F.mse_loss(input, target, reduction=self.reduction)\n",
      "/home/mara/anaconda3/lib/python3.9/site-packages/torch/nn/modules/loss.py:536: UserWarning: Using a target size (torch.Size([256, 6])) that is different to the input size (torch.Size([6])). This will likely lead to incorrect results due to broadcasting. Please ensure they have the same size.\n",
      "  return F.mse_loss(input, target, reduction=self.reduction)\n",
      "/home/mara/anaconda3/lib/python3.9/site-packages/torch/nn/modules/loss.py:536: UserWarning: Using a target size (torch.Size([256, 6])) that is different to the input size (torch.Size([6])). This will likely lead to incorrect results due to broadcasting. Please ensure they have the same size.\n",
      "  return F.mse_loss(input, target, reduction=self.reduction)\n",
      "/home/mara/anaconda3/lib/python3.9/site-packages/torch/nn/modules/loss.py:536: UserWarning: Using a target size (torch.Size([64, 6])) that is different to the input size (torch.Size([6])). This will likely lead to incorrect results due to broadcasting. Please ensure they have the same size.\n",
      "  return F.mse_loss(input, target, reduction=self.reduction)\n"
     ]
    }
   ],
   "source": [
    "gnn.model.eval()\n",
    "loss_fn = torch.nn.MSELoss()\n",
    "mse = 0\n",
    "total = 0 \n",
    "r2_scores = []\n",
    "for graph in train_loader:\n",
    "    output = gnn.model(graph.x, graph.edge_index, graph.batch)\n",
    "    output = torch.sum(output, dim=1)\n",
    "    y_true = graph.y.reshape(int(len(graph.y)/6), 6)\n",
    "    padded_output = torch.nn.functional.pad(output, (0, 256 - int(len(graph.y)/6)))\n",
    "    y_pred = probe(padded_output)\n",
    "    \n",
    "    mse += loss_fn(y_pred, y_true)\n",
    "    total += 1\n",
    "\n",
    "    # Calculate R2 score per property\n",
    "    r2_per_property = []\n",
    "    for i in range(len(y_true)):\n",
    "        r2 = r2_score(y_true[i], y_pred.detach().numpy())\n",
    "        r2_per_property.append(r2)\n",
    "    \n",
    "    r2_scores.append(r2_per_property)\n",
    "\n",
    "print(mse/total)\n",
    "print(r2_scores)"
   ]
  },
  {
   "cell_type": "code",
   "execution_count": 21,
   "metadata": {},
   "outputs": [
    {
     "name": "stderr",
     "output_type": "stream",
     "text": [
      "/home/mara/anaconda3/lib/python3.9/site-packages/torch/nn/modules/loss.py:536: UserWarning: Using a target size (torch.Size([256, 6])) that is different to the input size (torch.Size([6])). This will likely lead to incorrect results due to broadcasting. Please ensure they have the same size.\n",
      "  return F.mse_loss(input, target, reduction=self.reduction)\n",
      "/home/mara/anaconda3/lib/python3.9/site-packages/torch/nn/modules/loss.py:536: UserWarning: Using a target size (torch.Size([256, 6])) that is different to the input size (torch.Size([6])). This will likely lead to incorrect results due to broadcasting. Please ensure they have the same size.\n",
      "  return F.mse_loss(input, target, reduction=self.reduction)\n",
      "/home/mara/anaconda3/lib/python3.9/site-packages/torch/nn/modules/loss.py:536: UserWarning: Using a target size (torch.Size([256, 6])) that is different to the input size (torch.Size([6])). This will likely lead to incorrect results due to broadcasting. Please ensure they have the same size.\n",
      "  return F.mse_loss(input, target, reduction=self.reduction)\n",
      "/home/mara/anaconda3/lib/python3.9/site-packages/torch/nn/modules/loss.py:536: UserWarning: Using a target size (torch.Size([256, 6])) that is different to the input size (torch.Size([6])). This will likely lead to incorrect results due to broadcasting. Please ensure they have the same size.\n",
      "  return F.mse_loss(input, target, reduction=self.reduction)\n",
      "/home/mara/anaconda3/lib/python3.9/site-packages/torch/nn/modules/loss.py:536: UserWarning: Using a target size (torch.Size([256, 6])) that is different to the input size (torch.Size([6])). This will likely lead to incorrect results due to broadcasting. Please ensure they have the same size.\n",
      "  return F.mse_loss(input, target, reduction=self.reduction)\n",
      "/home/mara/anaconda3/lib/python3.9/site-packages/torch/nn/modules/loss.py:536: UserWarning: Using a target size (torch.Size([256, 6])) that is different to the input size (torch.Size([6])). This will likely lead to incorrect results due to broadcasting. Please ensure they have the same size.\n",
      "  return F.mse_loss(input, target, reduction=self.reduction)\n"
     ]
    },
    {
     "name": "stdout",
     "output_type": "stream",
     "text": [
      "tensor(15.5753, grad_fn=<DivBackward0>)\n",
      "0.8094981961696622\n",
      "[0.8581070980574541, 0.8282953847759253, 0.8623733676254801, 0.8527135186754542, 0.8281379948579171, 0.8308978910895, 0.6059621181059043]\n"
     ]
    },
    {
     "name": "stderr",
     "output_type": "stream",
     "text": [
      "/home/mara/anaconda3/lib/python3.9/site-packages/torch/nn/modules/loss.py:536: UserWarning: Using a target size (torch.Size([64, 6])) that is different to the input size (torch.Size([6])). This will likely lead to incorrect results due to broadcasting. Please ensure they have the same size.\n",
      "  return F.mse_loss(input, target, reduction=self.reduction)\n"
     ]
    }
   ],
   "source": [
    "gnn.model.eval()\n",
    "loss_fn = torch.nn.MSELoss()\n",
    "mse = 0\n",
    "total = 0 \n",
    "r2_scores = []\n",
    "for graph in train_loader:\n",
    "    output = gnn.model(graph.x, graph.edge_index, graph.batch)\n",
    "    output = torch.sum(output, dim=1)\n",
    "    y_true = graph.y.reshape(int(len(graph.y)/6), 6)\n",
    "    padded_output = torch.nn.functional.pad(output, (0, 256 - int(len(graph.y)/6)))\n",
    "    y_pred = probe(padded_output)\n",
    "    \n",
    "    mse += loss_fn(y_pred, y_true)\n",
    "    total += 1\n",
    "\n",
    "    # Calculate R2 score per property\n",
    "    r2_per_property = []\n",
    "    for i in range(len(y_true)):\n",
    "        r2 = r2_score(y_true[i], y_pred.detach().numpy())\n",
    "        r2_per_property.append(r2)\n",
    "    \n",
    "    r2_per_property = np.mean(r2_per_property)\n",
    "    r2_scores.append(r2_per_property)\n",
    "\n",
    "# r2_scores = np.mean(r2_scores, axis=0)\n",
    "print(mse/total)\n",
    "print(np.mean(r2_scores))\n",
    "print(r2_scores)"
   ]
  },
  {
   "cell_type": "code",
   "execution_count": null,
   "metadata": {},
   "outputs": [],
   "source": []
  }
 ],
 "metadata": {
  "kernelspec": {
   "display_name": "base",
   "language": "python",
   "name": "python3"
  },
  "language_info": {
   "codemirror_mode": {
    "name": "ipython",
    "version": 3
   },
   "file_extension": ".py",
   "mimetype": "text/x-python",
   "name": "python",
   "nbconvert_exporter": "python",
   "pygments_lexer": "ipython3",
   "version": "3.9.13"
  },
  "orig_nbformat": 4
 },
 "nbformat": 4,
 "nbformat_minor": 2
}
