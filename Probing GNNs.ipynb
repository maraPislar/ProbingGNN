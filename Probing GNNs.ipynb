{
 "cells": [
  {
   "attachments": {},
   "cell_type": "markdown",
   "metadata": {},
   "source": [
    "# Load a Model"
   ]
  },
  {
   "cell_type": "code",
   "execution_count": 1,
   "metadata": {},
   "outputs": [],
   "source": [
    "MODEL = \"GIN\"\n",
    "DATASET = \"BA_2grid\"\n",
    "\n",
    "# import the model\n",
    "from models.models_BA_2grid import GIN_framework as framework\n",
    "# import the dataset\n",
    "from Datasets.synthetics import BA_2grid\n",
    "from torch_geometric.loader import DataLoader\n",
    "import torch.nn.functional as F\n",
    "import torch\n",
    "import random\n",
    "import numpy as np\n",
    "from sklearn.metrics import accuracy_score, f1_score, confusion_matrix\n",
    "import matplotlib.pyplot as plt\n",
    "from torch_geometric.nn import MLP, GINConv\n",
    "from torch.nn import Linear"
   ]
  },
  {
   "cell_type": "code",
   "execution_count": 2,
   "metadata": {},
   "outputs": [],
   "source": [
    "def set_seed(seed):\n",
    "    if seed == -1:\n",
    "        seed = random.randint(0, 1000)\n",
    "    # Pandas also uses np random state by default\n",
    "    np.random.seed(seed)\n",
    "    random.seed(seed)\n",
    "    torch.manual_seed(seed)\n",
    "\n",
    "    # if you are using GPU\n",
    "    torch.cuda.manual_seed(seed)\n",
    "    torch.cuda.manual_seed_all(seed)\n",
    "    torch.backends.cudnn.enabled = False\n",
    "    torch.backends.cudnn.benchmark = False\n",
    "    torch.backends.cudnn.deterministic = True"
   ]
  },
  {
   "cell_type": "code",
   "execution_count": 3,
   "metadata": {},
   "outputs": [],
   "source": [
    "set_seed(1)"
   ]
  },
  {
   "cell_type": "code",
   "execution_count": 4,
   "metadata": {},
   "outputs": [
    {
     "name": "stderr",
     "output_type": "stream",
     "text": [
      "/home/mara/anaconda3/lib/python3.9/site-packages/torch_geometric/data/in_memory_dataset.py:157: UserWarning: It is not recommended to directly access the internal storage format `data` of an 'InMemoryDataset'. If you are absolutely certain what you are doing, access the internal storage via `InMemoryDataset._data` instead to suppress this warning. Alternatively, you can access stacked individual attributes of every graph via `dataset.{attr_name}`.\n",
      "  warnings.warn(msg)\n"
     ]
    }
   ],
   "source": [
    "# inizialize the framework\n",
    "dataset = BA_2grid()\n",
    "gnn = framework(dataset,device=\"cpu\")"
   ]
  },
  {
   "cell_type": "code",
   "execution_count": 5,
   "metadata": {},
   "outputs": [
    {
     "name": "stdout",
     "output_type": "stream",
     "text": [
      "we loaded the weights\n",
      "tensor([-0.1223,  0.3137,  0.0286, -0.1346,  0.3280,  0.3423, -0.0706,  0.1529,\n",
      "         0.1649, -0.0715], dtype=torch.float64, grad_fn=<SelectBackward0>)\n"
     ]
    }
   ],
   "source": [
    "#now that the model is instaziated, we have to load the weights\n",
    "gnn.load_model(\"models/\"+DATASET+\"_\"+MODEL)\n",
    "print(\"we loaded the weights\")\n",
    "\n",
    "# right now the model has trained weights.\n",
    "print(gnn.model.mlp1.weight[0])"
   ]
  },
  {
   "cell_type": "code",
   "execution_count": 5,
   "metadata": {},
   "outputs": [
    {
     "name": "stdout",
     "output_type": "stream",
     "text": [
      "Test Loss: 0.175, Train Acc: 0.500 Test Acc: 0.500\n"
     ]
    }
   ],
   "source": [
    "gnn.evaluate()"
   ]
  },
  {
   "cell_type": "code",
   "execution_count": 6,
   "metadata": {},
   "outputs": [],
   "source": [
    "def eval_probe(probe, val_dataloader):\n",
    "    probe.eval()\n",
    "    ys_pred = np.zeros(len(val_dataloader.dataset))\n",
    "    ys_true = np.zeros(len(val_dataloader.dataset))\n",
    "\n",
    "    i = 0\n",
    "    for inputs, labels in val_dataloader:\n",
    "        output = probe(inputs)\n",
    "        preds = torch.argmax(output, dim=-1)\n",
    "        ys_pred[i : i + len(labels)] = preds.detach().int().numpy()\n",
    "        ys_true[i : i + len(labels)] = labels.int().numpy()\n",
    "\n",
    "        i += len(labels)\n",
    "    return {\n",
    "            \"pred\": ys_pred,\n",
    "            \"true\": ys_true,\n",
    "            \"accuracy\": accuracy_score(ys_true, ys_pred),\n",
    "            \"f1_macro\": f1_score(ys_true, ys_pred, average=\"macro\"),\n",
    "            \"confusion_matrix\": confusion_matrix(ys_true, ys_pred, normalize='true')\n",
    "}"
   ]
  },
  {
   "cell_type": "code",
   "execution_count": 7,
   "metadata": {},
   "outputs": [],
   "source": [
    "def train_per_layer(gnn, layer_index):\n",
    "    gnn.model.train()\n",
    "    gnn.optimizer.zero_grad()\n",
    "    \n",
    "    total_loss = 0\n",
    "\n",
    "    for data in gnn.train_loader:\n",
    "\n",
    "        data = data.to(gnn.device)\n",
    "        gnn.optimizer.zero_grad()\n",
    "        \n",
    "        # Forward pass\n",
    "        output = gnn.model(data.x, data.edge_index, data.batch)\n",
    "        \n",
    "        # Compute loss and perform backpropagation\n",
    "        loss = F.nll_loss(output, data.y)\n",
    "        loss.backward()\n",
    "        \n",
    "        # Freeze parameters of layers before the specified layer index\n",
    "        i = 0\n",
    "        for name, param in gnn.model.named_parameters():\n",
    "            if i == layer_index:\n",
    "                break\n",
    "            param.requires_grad = False\n",
    "            i += 1\n",
    "        \n",
    "        # Update parameters of the specified layer and subsequent layers\n",
    "        gnn.optimizer.step()\n",
    "        \n",
    "        # Unfreeze all parameters for the next iteration\n",
    "        for param in gnn.model.parameters():\n",
    "            param.requires_grad = True\n",
    "        \n",
    "        total_loss += float(loss) * data.num_graphs\n",
    "    return total_loss / len(gnn.train_loader.dataset)\n"
   ]
  },
  {
   "cell_type": "code",
   "execution_count": 8,
   "metadata": {},
   "outputs": [],
   "source": [
    "def iterate_per_layer(gnn, layer_idx, num_epochs=10):\n",
    "    train = 0\n",
    "    for epoch in range(num_epochs):\n",
    "        loss = train_per_layer(gnn, layer_idx)\n",
    "        train_acc,train_loss = gnn.test(gnn.train_loader)\n",
    "        train += train_acc\n",
    "    test_acc,test_loss = gnn.test(gnn.test_loader)\n",
    "    print(f'Layer: {layer_idx}, Epoch: {epoch:03d}, '\n",
    "            f'Test Loss: {test_loss:.3f}, Train Acc: {train/num_epochs:.3f} '\n",
    "            f'Test Acc: {test_acc:.3f}')\n",
    "    return test_acc, test_loss"
   ]
  },
  {
   "cell_type": "code",
   "execution_count": 9,
   "metadata": {},
   "outputs": [],
   "source": [
    "num_layers = 6"
   ]
  },
  {
   "cell_type": "code",
   "execution_count": 10,
   "metadata": {},
   "outputs": [
    {
     "name": "stdout",
     "output_type": "stream",
     "text": [
      "Layer 0:\n"
     ]
    },
    {
     "name": "stderr",
     "output_type": "stream",
     "text": [
      "/home/mara/anaconda3/lib/python3.9/site-packages/torch_geometric/data/in_memory_dataset.py:157: UserWarning: It is not recommended to directly access the internal storage format `data` of an 'InMemoryDataset'. If you are absolutely certain what you are doing, access the internal storage via `InMemoryDataset._data` instead to suppress this warning. Alternatively, you can access stacked individual attributes of every graph via `dataset.{attr_name}`.\n",
      "  warnings.warn(msg)\n"
     ]
    },
    {
     "name": "stdout",
     "output_type": "stream",
     "text": [
      "Layer: 0, Epoch: 009, Test Loss: 0.081, Train Acc: 0.822 Test Acc: 0.905\n",
      "Layer 1:\n"
     ]
    },
    {
     "name": "stderr",
     "output_type": "stream",
     "text": [
      "/home/mara/anaconda3/lib/python3.9/site-packages/torch_geometric/data/in_memory_dataset.py:157: UserWarning: It is not recommended to directly access the internal storage format `data` of an 'InMemoryDataset'. If you are absolutely certain what you are doing, access the internal storage via `InMemoryDataset._data` instead to suppress this warning. Alternatively, you can access stacked individual attributes of every graph via `dataset.{attr_name}`.\n",
      "  warnings.warn(msg)\n"
     ]
    },
    {
     "name": "stdout",
     "output_type": "stream",
     "text": [
      "Layer: 1, Epoch: 009, Test Loss: 0.105, Train Acc: 0.823 Test Acc: 0.850\n",
      "Layer 2:\n"
     ]
    },
    {
     "name": "stderr",
     "output_type": "stream",
     "text": [
      "/home/mara/anaconda3/lib/python3.9/site-packages/torch_geometric/data/in_memory_dataset.py:157: UserWarning: It is not recommended to directly access the internal storage format `data` of an 'InMemoryDataset'. If you are absolutely certain what you are doing, access the internal storage via `InMemoryDataset._data` instead to suppress this warning. Alternatively, you can access stacked individual attributes of every graph via `dataset.{attr_name}`.\n",
      "  warnings.warn(msg)\n"
     ]
    },
    {
     "name": "stdout",
     "output_type": "stream",
     "text": [
      "Layer: 2, Epoch: 009, Test Loss: 0.153, Train Acc: 0.577 Test Acc: 0.660\n",
      "Layer 3:\n"
     ]
    },
    {
     "name": "stderr",
     "output_type": "stream",
     "text": [
      "/home/mara/anaconda3/lib/python3.9/site-packages/torch_geometric/data/in_memory_dataset.py:157: UserWarning: It is not recommended to directly access the internal storage format `data` of an 'InMemoryDataset'. If you are absolutely certain what you are doing, access the internal storage via `InMemoryDataset._data` instead to suppress this warning. Alternatively, you can access stacked individual attributes of every graph via `dataset.{attr_name}`.\n",
      "  warnings.warn(msg)\n"
     ]
    },
    {
     "name": "stdout",
     "output_type": "stream",
     "text": [
      "Layer: 3, Epoch: 009, Test Loss: 0.086, Train Acc: 0.783 Test Acc: 0.890\n",
      "Layer 4:\n"
     ]
    },
    {
     "name": "stderr",
     "output_type": "stream",
     "text": [
      "/home/mara/anaconda3/lib/python3.9/site-packages/torch_geometric/data/in_memory_dataset.py:157: UserWarning: It is not recommended to directly access the internal storage format `data` of an 'InMemoryDataset'. If you are absolutely certain what you are doing, access the internal storage via `InMemoryDataset._data` instead to suppress this warning. Alternatively, you can access stacked individual attributes of every graph via `dataset.{attr_name}`.\n",
      "  warnings.warn(msg)\n"
     ]
    },
    {
     "name": "stdout",
     "output_type": "stream",
     "text": [
      "Layer: 4, Epoch: 009, Test Loss: 0.075, Train Acc: 0.880 Test Acc: 0.915\n",
      "Layer 5:\n"
     ]
    },
    {
     "name": "stderr",
     "output_type": "stream",
     "text": [
      "/home/mara/anaconda3/lib/python3.9/site-packages/torch_geometric/data/in_memory_dataset.py:157: UserWarning: It is not recommended to directly access the internal storage format `data` of an 'InMemoryDataset'. If you are absolutely certain what you are doing, access the internal storage via `InMemoryDataset._data` instead to suppress this warning. Alternatively, you can access stacked individual attributes of every graph via `dataset.{attr_name}`.\n",
      "  warnings.warn(msg)\n"
     ]
    },
    {
     "name": "stdout",
     "output_type": "stream",
     "text": [
      "Layer: 5, Epoch: 009, Test Loss: 0.102, Train Acc: 0.751 Test Acc: 0.855\n"
     ]
    }
   ],
   "source": [
    "accuracies = []\n",
    "losses = []\n",
    "for layer in range(num_layers):\n",
    "    print('Layer ' + str(layer) + ':')\n",
    "    probe = framework(dataset,device=\"cpu\")\n",
    "    acc, loss = iterate_per_layer(probe, layer)\n",
    "    accuracies.append(acc)\n",
    "    losses.append(loss)"
   ]
  },
  {
   "cell_type": "code",
   "execution_count": 11,
   "metadata": {},
   "outputs": [
    {
     "data": {
      "text/plain": [
       "[<matplotlib.lines.Line2D at 0x7fd5bfc38100>]"
      ]
     },
     "execution_count": 11,
     "metadata": {},
     "output_type": "execute_result"
    },
    {
     "data": {
      "image/png": "[encoded data removed]",
      "text/plain": [
       "<Figure size 640x480 with 1 Axes>"
      ]
     },
     "metadata": {},
     "output_type": "display_data"
    }
   ],
   "source": [
    "layers = [i for i in range(num_layers)]\n",
    "plt.plot(layers, accuracies)"
   ]
  },
  {
   "cell_type": "code",
   "execution_count": 12,
   "metadata": {},
   "outputs": [
    {
     "data": {
      "text/plain": [
       "[<matplotlib.lines.Line2D at 0x7fd5b56b6460>]"
      ]
     },
     "execution_count": 12,
     "metadata": {},
     "output_type": "execute_result"
    },
    {
     "data": {
      "image/png": "[encoded data removed]",
      "text/plain": [
       "<Figure size 640x480 with 1 Axes>"
      ]
     },
     "metadata": {},
     "output_type": "display_data"
    }
   ],
   "source": [
    "layers = [i for i in range(num_layers)]\n",
    "plt.plot(layers, losses)"
   ]
  },
  {
   "cell_type": "code",
   "execution_count": null,
   "metadata": {},
   "outputs": [],
   "source": []
  }
 ],
 "metadata": {
  "kernelspec": {
   "display_name": "base",
   "language": "python",
   "name": "python3"
  },
  "language_info": {
   "codemirror_mode": {
    "name": "ipython",
    "version": 3
   },
   "file_extension": ".py",
   "mimetype": "text/x-python",
   "name": "python",
   "nbconvert_exporter": "python",
   "pygments_lexer": "ipython3",
   "version": "3.9.13"
  },
  "orig_nbformat": 4
 },
 "nbformat": 4,
 "nbformat_minor": 2
}
